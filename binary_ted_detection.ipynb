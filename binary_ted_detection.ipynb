{
  "nbformat": 4,
  "nbformat_minor": 0,
  "metadata": {
    "colab": {
      "name": "binary-ted-detection.ipynb",
      "provenance": [],
      "collapsed_sections": []
    },
    "kernelspec": {
      "name": "python3",
      "display_name": "Python 3"
    },
    "accelerator": "GPU"
  },
  "cells": [
    {
      "cell_type": "markdown",
      "metadata": {
        "id": "BikEAlu9zYNe",
        "colab_type": "text"
      },
      "source": [
        "Import Dependencies"
      ]
    },
    {
      "cell_type": "code",
      "metadata": {
        "id": "6u-PCsnfIm6S",
        "colab_type": "code",
        "outputId": "a3a8d0c0-7aab-4cf1-a385-19a9a1dfba2c",
        "colab": {
          "base_uri": "https://localhost:8080/",
          "height": 35
        }
      },
      "source": [
        "import tensorflow as tf\n",
        "import keras \n",
        "from keras import applications\n",
        "from keras import Sequential\n",
        "from keras.preprocessing.image import ImageDataGenerator\n",
        "from keras.layers import Input, Add, Dense, Activation, Flatten, AveragePooling2D, MaxPooling2D, GlobalMaxPooling2D\n",
        "from keras.applications import VGG19, ResNet50, ResNet50V2, ResNet101V2, InceptionV3, DenseNet121\n",
        "from keras import optimizers\n",
        "from keras import Model\n",
        "from keras import callbacks\n",
        "import numpy as np \n",
        "import os \n",
        "import time \n"
      ],
      "execution_count": 0,
      "outputs": [
        {
          "output_type": "stream",
          "text": [
            "Using TensorFlow backend.\n"
          ],
          "name": "stderr"
        }
      ]
    },
    {
      "cell_type": "code",
      "metadata": {
        "id": "-oUQ9H6jheAe",
        "colab_type": "code",
        "outputId": "5bbb312a-9d37-4a37-b5bc-ac9e8d4f5dd7",
        "colab": {
          "base_uri": "https://localhost:8080/",
          "height": 54
        }
      },
      "source": [
        "print(tf.__version__)\n",
        "print(keras.__version__)\n"
      ],
      "execution_count": 0,
      "outputs": [
        {
          "output_type": "stream",
          "text": [
            "2.2.0\n",
            "2.3.1\n"
          ],
          "name": "stdout"
        }
      ]
    },
    {
      "cell_type": "code",
      "metadata": {
        "id": "A8Z5GwFMAQOS",
        "colab_type": "code",
        "outputId": "3ce3cb90-5082-49ce-d9ac-dffc44eaf75d",
        "colab": {
          "base_uri": "https://localhost:8080/",
          "height": 34
        }
      },
      "source": [
        "#mount google drive\n",
        "from google.colab import drive \n",
        "drive.mount('/content/gdrive')"
      ],
      "execution_count": 0,
      "outputs": [
        {
          "output_type": "stream",
          "text": [
            "Mounted at /content/gdrive\n"
          ],
          "name": "stdout"
        }
      ]
    },
    {
      "cell_type": "code",
      "metadata": {
        "id": "n99cWke58yuI",
        "colab_type": "code",
        "outputId": "fb868895-2846-4cb7-b1d9-e93c4b8db96a",
        "colab": {
          "base_uri": "https://localhost:8080/",
          "height": 34
        }
      },
      "source": [
        "#Load data\n",
        "!git clone https://github.com/KiaAzar/CS168.git\n",
        "test_data_dir = '/content/CS168/samples/test'\n",
        "train_data_dir = '/content/CS168/samples/train'"
      ],
      "execution_count": 0,
      "outputs": [
        {
          "output_type": "stream",
          "text": [
            "fatal: destination path 'CS168' already exists and is not an empty directory.\n"
          ],
          "name": "stdout"
        }
      ]
    },
    {
      "cell_type": "markdown",
      "metadata": {
        "id": "hm8i9GaEzgVx",
        "colab_type": "text"
      },
      "source": [
        "Create Data for binary classification"
      ]
    },
    {
      "cell_type": "code",
      "metadata": {
        "id": "kiQ00Q1Y-8Zq",
        "colab_type": "code",
        "outputId": "982986bb-1486-4084-bf31-fdff7defb3a6",
        "colab": {
          "base_uri": "https://localhost:8080/",
          "height": 51
        }
      },
      "source": [
        "#Create data Generator and set data augmentation\n",
        "datagen = ImageDataGenerator(\n",
        "         # randomly rotate images in the range (degrees, 0 to 180)\n",
        "        rotation_range=15, \n",
        "        # randomly shift images horizontally (fraction of total width)\n",
        "        width_shift_range=0.1,\n",
        "        # randomly shift images vertically (fraction of total height)\n",
        "        height_shift_range=0.1,\n",
        "        # randomly flip images\n",
        "        horizontal_flip=True,  \n",
        "         # randomly flip images\n",
        "        vertical_flip=True, \n",
        "        # set rescaling factor (applied before any other transformation)\n",
        "        rescale=1./255)\n",
        "\n",
        "#Set consts for model\n",
        "img_width=224\n",
        "img_height=224\n",
        "batch_size=50\n",
        "CLASSES=2\n",
        "\n",
        "#Generate the training data\n",
        "train_generator=datagen.flow_from_directory(directory=train_data_dir,\n",
        "                                            target_size=(img_width,img_height),\n",
        "                                            classes=['none', 'ted'],\n",
        "                                            class_mode='binary',\n",
        "                                            batch_size=batch_size)\n",
        "#Generate the validation data\n",
        "validation_generator=datagen.flow_from_directory(directory=test_data_dir,\n",
        "                                                 target_size=(img_width,img_height),\n",
        "                                            classes=['none', 'ted'],\n",
        "                                            class_mode='binary',\n",
        "                                            batch_size=batch_size)"
      ],
      "execution_count": 0,
      "outputs": [
        {
          "output_type": "stream",
          "text": [
            "Found 523 images belonging to 2 classes.\n",
            "Found 136 images belonging to 2 classes.\n"
          ],
          "name": "stdout"
        }
      ]
    },
    {
      "cell_type": "markdown",
      "metadata": {
        "id": "npoomF8xztB2",
        "colab_type": "text"
      },
      "source": [
        "\n",
        "Create model"
      ]
    },
    {
      "cell_type": "code",
      "metadata": {
        "id": "BfVqx6EitTV7",
        "colab_type": "code",
        "colab": {}
      },
      "source": [
        "MODEL_NAMES = ['VGG19', 'ResNet50V2', 'ResNet101V2', 'InceptionV3', 'DenseNet121']"
      ],
      "execution_count": 0,
      "outputs": []
    },
    {
      "cell_type": "code",
      "metadata": {
        "id": "N7IUs7EzOJr4",
        "colab_type": "code",
        "colab": {}
      },
      "source": [
        "#Create model\n",
        "model = Sequential()\n",
        "#Define input tensor\n",
        "inp = Input(shape=(img_width, img_height, 3))\n",
        "#load ResNet50\n",
        "model.add(DenseNet121(weights=None, include_top=False, input_tensor=inp))\n",
        "#Add additional layers to modify keras built-in models.\n",
        "model.add(Flatten())\n",
        "model.add(Dense(1, activation='sigmoid'))\n"
      ],
      "execution_count": 0,
      "outputs": []
    },
    {
      "cell_type": "code",
      "metadata": {
        "id": "jFSy2N_LJxfA",
        "colab_type": "code",
        "colab": {}
      },
      "source": [
        "#Create a callback to stop the model training if overfitting begins to occur\n",
        "callback = callbacks.EarlyStopping(monitor='val_accuracy', patience=50, mode='max', restore_best_weights=True)"
      ],
      "execution_count": 0,
      "outputs": []
    },
    {
      "cell_type": "markdown",
      "metadata": {
        "id": "BE7erGcqzylI",
        "colab_type": "text"
      },
      "source": [
        "Train ResNet50V2"
      ]
    },
    {
      "cell_type": "code",
      "metadata": {
        "id": "3EVZloOJ_kh_",
        "colab_type": "code",
        "outputId": "d45bc076-0f86-4f73-f21c-245a57ebbb02",
        "colab": {
          "base_uri": "https://localhost:8080/",
          "height": 1000
        }
      },
      "source": [
        "num_epochs = 300\n",
        "opt = optimizers.adamax(learning_rate=0.001, beta_1=0.9, beta_2=0.999, epsilon=1e-07)\n",
        "model.compile(loss='binary_crossentropy',optimizer=opt,metrics=['accuracy'])\n",
        "\n",
        "\n",
        "history = model.fit_generator(generator=train_generator, epochs=num_epochs, callbacks=[callback], validation_data=validation_generator)"
      ],
      "execution_count": 0,
      "outputs": [
        {
          "output_type": "stream",
          "text": [
            "Epoch 1/300\n",
            "11/11 [==============================] - 56s 5s/step - loss: 1.6880 - accuracy: 0.5335 - val_loss: 0.6942 - val_accuracy: 0.5221\n",
            "Epoch 2/300\n",
            "11/11 [==============================] - 8s 709ms/step - loss: 0.6154 - accuracy: 0.6788 - val_loss: 0.7040 - val_accuracy: 0.4779\n",
            "Epoch 3/300\n",
            "11/11 [==============================] - 10s 937ms/step - loss: 0.6075 - accuracy: 0.7285 - val_loss: 0.6979 - val_accuracy: 0.4779\n",
            "Epoch 4/300\n",
            "11/11 [==============================] - 10s 944ms/step - loss: 0.5459 - accuracy: 0.7763 - val_loss: 0.6940 - val_accuracy: 0.4779\n",
            "Epoch 5/300\n",
            "11/11 [==============================] - 11s 973ms/step - loss: 0.6547 - accuracy: 0.7763 - val_loss: 0.7626 - val_accuracy: 0.4779\n",
            "Epoch 6/300\n",
            "11/11 [==============================] - 10s 945ms/step - loss: 0.5029 - accuracy: 0.7973 - val_loss: 0.8289 - val_accuracy: 0.4779\n",
            "Epoch 7/300\n",
            "11/11 [==============================] - 10s 932ms/step - loss: 0.3958 - accuracy: 0.8298 - val_loss: 0.7281 - val_accuracy: 0.4779\n",
            "Epoch 8/300\n",
            "11/11 [==============================] - 10s 947ms/step - loss: 0.3441 - accuracy: 0.8451 - val_loss: 0.7635 - val_accuracy: 0.4779\n",
            "Epoch 9/300\n",
            "11/11 [==============================] - 11s 959ms/step - loss: 0.3420 - accuracy: 0.8681 - val_loss: 0.7189 - val_accuracy: 0.4779\n",
            "Epoch 10/300\n",
            "11/11 [==============================] - 10s 946ms/step - loss: 0.3075 - accuracy: 0.8719 - val_loss: 0.8515 - val_accuracy: 0.4779\n",
            "Epoch 11/300\n",
            "11/11 [==============================] - 11s 956ms/step - loss: 0.2576 - accuracy: 0.8967 - val_loss: 0.8751 - val_accuracy: 0.4779\n",
            "Epoch 12/300\n",
            "11/11 [==============================] - 10s 944ms/step - loss: 0.2626 - accuracy: 0.8987 - val_loss: 1.0439 - val_accuracy: 0.4779\n",
            "Epoch 13/300\n",
            "11/11 [==============================] - 10s 948ms/step - loss: 0.2807 - accuracy: 0.8929 - val_loss: 0.9648 - val_accuracy: 0.4779\n",
            "Epoch 14/300\n",
            "11/11 [==============================] - 10s 938ms/step - loss: 0.3450 - accuracy: 0.8834 - val_loss: 1.0657 - val_accuracy: 0.4779\n",
            "Epoch 15/300\n",
            "11/11 [==============================] - 10s 924ms/step - loss: 0.2982 - accuracy: 0.8929 - val_loss: 2.0524 - val_accuracy: 0.4779\n",
            "Epoch 16/300\n",
            "11/11 [==============================] - 10s 950ms/step - loss: 0.2994 - accuracy: 0.8929 - val_loss: 0.9623 - val_accuracy: 0.4779\n",
            "Epoch 17/300\n",
            "11/11 [==============================] - 10s 948ms/step - loss: 0.2223 - accuracy: 0.9159 - val_loss: 1.1972 - val_accuracy: 0.4779\n",
            "Epoch 18/300\n",
            "11/11 [==============================] - 10s 948ms/step - loss: 0.1574 - accuracy: 0.9369 - val_loss: 1.4681 - val_accuracy: 0.4779\n",
            "Epoch 19/300\n",
            "11/11 [==============================] - 10s 946ms/step - loss: 0.1637 - accuracy: 0.9350 - val_loss: 2.3276 - val_accuracy: 0.4779\n",
            "Epoch 20/300\n",
            "11/11 [==============================] - 10s 942ms/step - loss: 0.1956 - accuracy: 0.9235 - val_loss: 2.1145 - val_accuracy: 0.4779\n",
            "Epoch 21/300\n",
            "11/11 [==============================] - 10s 947ms/step - loss: 0.1554 - accuracy: 0.9331 - val_loss: 1.4574 - val_accuracy: 0.4779\n",
            "Epoch 22/300\n",
            "11/11 [==============================] - 10s 946ms/step - loss: 0.1959 - accuracy: 0.9178 - val_loss: 1.9858 - val_accuracy: 0.4779\n",
            "Epoch 23/300\n",
            "11/11 [==============================] - 10s 943ms/step - loss: 0.1499 - accuracy: 0.9407 - val_loss: 0.9164 - val_accuracy: 0.4706\n",
            "Epoch 24/300\n",
            "11/11 [==============================] - 10s 937ms/step - loss: 0.1137 - accuracy: 0.9484 - val_loss: 1.0810 - val_accuracy: 0.4779\n",
            "Epoch 25/300\n",
            "11/11 [==============================] - 10s 929ms/step - loss: 0.1003 - accuracy: 0.9618 - val_loss: 1.5967 - val_accuracy: 0.4779\n",
            "Epoch 26/300\n",
            "11/11 [==============================] - 10s 954ms/step - loss: 0.0992 - accuracy: 0.9675 - val_loss: 1.2360 - val_accuracy: 0.4779\n",
            "Epoch 27/300\n",
            "11/11 [==============================] - 10s 940ms/step - loss: 0.1138 - accuracy: 0.9522 - val_loss: 1.8382 - val_accuracy: 0.4779\n",
            "Epoch 28/300\n",
            "11/11 [==============================] - 11s 959ms/step - loss: 0.0945 - accuracy: 0.9656 - val_loss: 1.2840 - val_accuracy: 0.4779\n",
            "Epoch 29/300\n",
            "11/11 [==============================] - 10s 938ms/step - loss: 0.1241 - accuracy: 0.9560 - val_loss: 0.7673 - val_accuracy: 0.5735\n",
            "Epoch 30/300\n",
            "11/11 [==============================] - 10s 923ms/step - loss: 0.0632 - accuracy: 0.9771 - val_loss: 1.8748 - val_accuracy: 0.4853\n",
            "Epoch 31/300\n",
            "11/11 [==============================] - 10s 940ms/step - loss: 0.0876 - accuracy: 0.9732 - val_loss: 0.7538 - val_accuracy: 0.5000\n",
            "Epoch 32/300\n",
            "11/11 [==============================] - 10s 931ms/step - loss: 0.0871 - accuracy: 0.9713 - val_loss: 0.7292 - val_accuracy: 0.5368\n",
            "Epoch 33/300\n",
            "11/11 [==============================] - 10s 948ms/step - loss: 0.0976 - accuracy: 0.9598 - val_loss: 0.6619 - val_accuracy: 0.5662\n",
            "Epoch 34/300\n",
            "11/11 [==============================] - 10s 938ms/step - loss: 0.0785 - accuracy: 0.9694 - val_loss: 1.0763 - val_accuracy: 0.5294\n",
            "Epoch 35/300\n",
            "11/11 [==============================] - 10s 936ms/step - loss: 0.0984 - accuracy: 0.9637 - val_loss: 0.6271 - val_accuracy: 0.6103\n",
            "Epoch 36/300\n",
            "11/11 [==============================] - 10s 938ms/step - loss: 0.1293 - accuracy: 0.9446 - val_loss: 0.9847 - val_accuracy: 0.5882\n",
            "Epoch 37/300\n",
            "11/11 [==============================] - 10s 942ms/step - loss: 0.2366 - accuracy: 0.9293 - val_loss: 2.3251 - val_accuracy: 0.5662\n",
            "Epoch 38/300\n",
            "11/11 [==============================] - 10s 938ms/step - loss: 0.2038 - accuracy: 0.9178 - val_loss: 0.9223 - val_accuracy: 0.6618\n",
            "Epoch 39/300\n",
            "11/11 [==============================] - 10s 918ms/step - loss: 0.2347 - accuracy: 0.9254 - val_loss: 0.6418 - val_accuracy: 0.5809\n",
            "Epoch 40/300\n",
            "11/11 [==============================] - 10s 927ms/step - loss: 0.1324 - accuracy: 0.9541 - val_loss: 0.9763 - val_accuracy: 0.5294\n",
            "Epoch 41/300\n",
            "11/11 [==============================] - 10s 930ms/step - loss: 0.1353 - accuracy: 0.9560 - val_loss: 1.6102 - val_accuracy: 0.6324\n",
            "Epoch 42/300\n",
            "11/11 [==============================] - 10s 937ms/step - loss: 0.1187 - accuracy: 0.9560 - val_loss: 1.0380 - val_accuracy: 0.6397\n",
            "Epoch 43/300\n",
            "11/11 [==============================] - 10s 945ms/step - loss: 0.0782 - accuracy: 0.9694 - val_loss: 0.7219 - val_accuracy: 0.6250\n",
            "Epoch 44/300\n",
            "11/11 [==============================] - 10s 929ms/step - loss: 0.0617 - accuracy: 0.9713 - val_loss: 0.8015 - val_accuracy: 0.6471\n",
            "Epoch 45/300\n",
            "11/11 [==============================] - 10s 937ms/step - loss: 0.0801 - accuracy: 0.9675 - val_loss: 0.6659 - val_accuracy: 0.6324\n",
            "Epoch 46/300\n",
            "11/11 [==============================] - 10s 930ms/step - loss: 0.1184 - accuracy: 0.9618 - val_loss: 0.9942 - val_accuracy: 0.6985\n",
            "Epoch 47/300\n",
            "11/11 [==============================] - 10s 933ms/step - loss: 0.1222 - accuracy: 0.9656 - val_loss: 1.3897 - val_accuracy: 0.6397\n",
            "Epoch 48/300\n",
            "11/11 [==============================] - 10s 934ms/step - loss: 0.1643 - accuracy: 0.9579 - val_loss: 0.8578 - val_accuracy: 0.6838\n",
            "Epoch 49/300\n",
            "11/11 [==============================] - 11s 965ms/step - loss: 0.0654 - accuracy: 0.9771 - val_loss: 1.0524 - val_accuracy: 0.6985\n",
            "Epoch 50/300\n",
            "11/11 [==============================] - 10s 934ms/step - loss: 0.0713 - accuracy: 0.9732 - val_loss: 0.8676 - val_accuracy: 0.6618\n",
            "Epoch 51/300\n",
            "11/11 [==============================] - 10s 936ms/step - loss: 0.0683 - accuracy: 0.9713 - val_loss: 1.1782 - val_accuracy: 0.7059\n",
            "Epoch 52/300\n",
            "11/11 [==============================] - 10s 929ms/step - loss: 0.0669 - accuracy: 0.9732 - val_loss: 0.7144 - val_accuracy: 0.7132\n",
            "Epoch 53/300\n",
            "11/11 [==============================] - 10s 921ms/step - loss: 0.0367 - accuracy: 0.9885 - val_loss: 0.8940 - val_accuracy: 0.7353\n",
            "Epoch 54/300\n",
            "11/11 [==============================] - 10s 916ms/step - loss: 0.0769 - accuracy: 0.9732 - val_loss: 1.1322 - val_accuracy: 0.7059\n",
            "Epoch 55/300\n",
            "11/11 [==============================] - 10s 922ms/step - loss: 0.0479 - accuracy: 0.9828 - val_loss: 0.7736 - val_accuracy: 0.7279\n",
            "Epoch 56/300\n",
            "11/11 [==============================] - 10s 950ms/step - loss: 0.0623 - accuracy: 0.9828 - val_loss: 1.0741 - val_accuracy: 0.7279\n",
            "Epoch 57/300\n",
            "11/11 [==============================] - 10s 947ms/step - loss: 0.0364 - accuracy: 0.9847 - val_loss: 0.3117 - val_accuracy: 0.8162\n",
            "Epoch 58/300\n",
            "11/11 [==============================] - 10s 927ms/step - loss: 0.0741 - accuracy: 0.9809 - val_loss: 0.6652 - val_accuracy: 0.8088\n",
            "Epoch 59/300\n",
            "11/11 [==============================] - 11s 962ms/step - loss: 0.0987 - accuracy: 0.9790 - val_loss: 0.5106 - val_accuracy: 0.8309\n",
            "Epoch 60/300\n",
            "11/11 [==============================] - 10s 934ms/step - loss: 0.0715 - accuracy: 0.9732 - val_loss: 0.6514 - val_accuracy: 0.8235\n",
            "Epoch 61/300\n",
            "11/11 [==============================] - 10s 927ms/step - loss: 0.0717 - accuracy: 0.9675 - val_loss: 1.2155 - val_accuracy: 0.7721\n",
            "Epoch 62/300\n",
            "11/11 [==============================] - 10s 940ms/step - loss: 0.0632 - accuracy: 0.9790 - val_loss: 0.4509 - val_accuracy: 0.8088\n",
            "Epoch 63/300\n",
            "11/11 [==============================] - 10s 942ms/step - loss: 0.0594 - accuracy: 0.9847 - val_loss: 0.6351 - val_accuracy: 0.8162\n",
            "Epoch 64/300\n",
            "11/11 [==============================] - 10s 938ms/step - loss: 0.1281 - accuracy: 0.9637 - val_loss: 0.3856 - val_accuracy: 0.8456\n",
            "Epoch 65/300\n",
            "11/11 [==============================] - 10s 930ms/step - loss: 0.1138 - accuracy: 0.9656 - val_loss: 1.3694 - val_accuracy: 0.8235\n",
            "Epoch 66/300\n",
            "11/11 [==============================] - 10s 952ms/step - loss: 0.1101 - accuracy: 0.9656 - val_loss: 1.6171 - val_accuracy: 0.8235\n",
            "Epoch 67/300\n",
            "11/11 [==============================] - 10s 948ms/step - loss: 0.1241 - accuracy: 0.9522 - val_loss: 0.3103 - val_accuracy: 0.8309\n",
            "Epoch 68/300\n",
            "11/11 [==============================] - 10s 953ms/step - loss: 0.0697 - accuracy: 0.9751 - val_loss: 1.1789 - val_accuracy: 0.7500\n",
            "Epoch 69/300\n",
            "11/11 [==============================] - 10s 945ms/step - loss: 0.0437 - accuracy: 0.9847 - val_loss: 0.3696 - val_accuracy: 0.8309\n",
            "Epoch 70/300\n",
            "11/11 [==============================] - 10s 939ms/step - loss: 0.0323 - accuracy: 0.9885 - val_loss: 0.5499 - val_accuracy: 0.8309\n",
            "Epoch 71/300\n",
            "11/11 [==============================] - 10s 943ms/step - loss: 0.0199 - accuracy: 0.9904 - val_loss: 1.1565 - val_accuracy: 0.8088\n",
            "Epoch 72/300\n",
            "11/11 [==============================] - 10s 943ms/step - loss: 0.0441 - accuracy: 0.9847 - val_loss: 1.1222 - val_accuracy: 0.7721\n",
            "Epoch 73/300\n",
            "11/11 [==============================] - 10s 954ms/step - loss: 0.0749 - accuracy: 0.9866 - val_loss: 1.1689 - val_accuracy: 0.8015\n",
            "Epoch 74/300\n",
            "11/11 [==============================] - 10s 950ms/step - loss: 0.0585 - accuracy: 0.9675 - val_loss: 1.2160 - val_accuracy: 0.8235\n",
            "Epoch 75/300\n",
            "11/11 [==============================] - 11s 964ms/step - loss: 0.0596 - accuracy: 0.9751 - val_loss: 1.1262 - val_accuracy: 0.8235\n",
            "Epoch 76/300\n",
            "11/11 [==============================] - 10s 931ms/step - loss: 0.0472 - accuracy: 0.9828 - val_loss: 0.8174 - val_accuracy: 0.7868\n",
            "Epoch 77/300\n",
            "11/11 [==============================] - 10s 947ms/step - loss: 0.0805 - accuracy: 0.9809 - val_loss: 0.1320 - val_accuracy: 0.8456\n",
            "Epoch 78/300\n",
            "11/11 [==============================] - 10s 948ms/step - loss: 0.0525 - accuracy: 0.9847 - val_loss: 0.4012 - val_accuracy: 0.8529\n",
            "Epoch 79/300\n",
            "11/11 [==============================] - 10s 915ms/step - loss: 0.0340 - accuracy: 0.9866 - val_loss: 1.4110 - val_accuracy: 0.7868\n",
            "Epoch 80/300\n",
            "11/11 [==============================] - 11s 967ms/step - loss: 0.0546 - accuracy: 0.9828 - val_loss: 0.4254 - val_accuracy: 0.8676\n",
            "Epoch 81/300\n",
            "11/11 [==============================] - 10s 949ms/step - loss: 0.0326 - accuracy: 0.9847 - val_loss: 0.2564 - val_accuracy: 0.8676\n",
            "Epoch 82/300\n",
            "11/11 [==============================] - 11s 963ms/step - loss: 0.0314 - accuracy: 0.9924 - val_loss: 0.4983 - val_accuracy: 0.8456\n",
            "Epoch 83/300\n",
            "11/11 [==============================] - 10s 954ms/step - loss: 0.0286 - accuracy: 0.9866 - val_loss: 0.8033 - val_accuracy: 0.8603\n",
            "Epoch 84/300\n",
            "11/11 [==============================] - 10s 944ms/step - loss: 0.0125 - accuracy: 0.9962 - val_loss: 1.2114 - val_accuracy: 0.7941\n",
            "Epoch 85/300\n",
            "11/11 [==============================] - 11s 957ms/step - loss: 0.0266 - accuracy: 0.9924 - val_loss: 0.5418 - val_accuracy: 0.8235\n",
            "Epoch 86/300\n",
            "11/11 [==============================] - 11s 981ms/step - loss: 0.0314 - accuracy: 0.9885 - val_loss: 0.8586 - val_accuracy: 0.8897\n",
            "Epoch 87/300\n",
            "11/11 [==============================] - 11s 967ms/step - loss: 0.0213 - accuracy: 0.9924 - val_loss: 0.2052 - val_accuracy: 0.8603\n",
            "Epoch 88/300\n",
            "11/11 [==============================] - 11s 965ms/step - loss: 0.0361 - accuracy: 0.9943 - val_loss: 1.1840 - val_accuracy: 0.8235\n",
            "Epoch 89/300\n",
            "11/11 [==============================] - 11s 974ms/step - loss: 0.0437 - accuracy: 0.9866 - val_loss: 4.1826 - val_accuracy: 0.6471\n",
            "Epoch 90/300\n",
            "11/11 [==============================] - 11s 957ms/step - loss: 0.0420 - accuracy: 0.9866 - val_loss: 0.4888 - val_accuracy: 0.8015\n",
            "Epoch 91/300\n",
            "11/11 [==============================] - 11s 962ms/step - loss: 0.0524 - accuracy: 0.9828 - val_loss: 3.0771 - val_accuracy: 0.7574\n",
            "Epoch 92/300\n",
            "11/11 [==============================] - 10s 950ms/step - loss: 0.0496 - accuracy: 0.9809 - val_loss: 0.6214 - val_accuracy: 0.8162\n",
            "Epoch 93/300\n",
            "11/11 [==============================] - 11s 961ms/step - loss: 0.0389 - accuracy: 0.9847 - val_loss: 1.1736 - val_accuracy: 0.8529\n",
            "Epoch 94/300\n",
            "11/11 [==============================] - 11s 975ms/step - loss: 0.0702 - accuracy: 0.9771 - val_loss: 0.5946 - val_accuracy: 0.8382\n",
            "Epoch 95/300\n",
            "11/11 [==============================] - 11s 978ms/step - loss: 0.0275 - accuracy: 0.9904 - val_loss: 0.6035 - val_accuracy: 0.7868\n",
            "Epoch 96/300\n",
            "11/11 [==============================] - 11s 976ms/step - loss: 0.0823 - accuracy: 0.9771 - val_loss: 0.1314 - val_accuracy: 0.8529\n",
            "Epoch 97/300\n",
            "11/11 [==============================] - 11s 986ms/step - loss: 0.0236 - accuracy: 0.9924 - val_loss: 1.5426 - val_accuracy: 0.7794\n",
            "Epoch 98/300\n",
            "11/11 [==============================] - 11s 972ms/step - loss: 0.0240 - accuracy: 0.9885 - val_loss: 1.6050 - val_accuracy: 0.8015\n",
            "Epoch 99/300\n",
            "11/11 [==============================] - 11s 960ms/step - loss: 0.0413 - accuracy: 0.9828 - val_loss: 1.9208 - val_accuracy: 0.7647\n",
            "Epoch 100/300\n",
            "11/11 [==============================] - 11s 981ms/step - loss: 0.0512 - accuracy: 0.9847 - val_loss: 1.5102 - val_accuracy: 0.7426\n",
            "Epoch 101/300\n",
            "11/11 [==============================] - 11s 974ms/step - loss: 0.0423 - accuracy: 0.9885 - val_loss: 1.5888 - val_accuracy: 0.8676\n",
            "Epoch 102/300\n",
            "11/11 [==============================] - 11s 956ms/step - loss: 0.0417 - accuracy: 0.9809 - val_loss: 0.6480 - val_accuracy: 0.8382\n",
            "Epoch 103/300\n",
            "11/11 [==============================] - 11s 1s/step - loss: 0.0767 - accuracy: 0.9790 - val_loss: 0.8091 - val_accuracy: 0.8456\n",
            "Epoch 104/300\n",
            "11/11 [==============================] - 11s 972ms/step - loss: 0.0459 - accuracy: 0.9809 - val_loss: 1.0364 - val_accuracy: 0.7868\n",
            "Epoch 105/300\n",
            "11/11 [==============================] - 11s 1s/step - loss: 0.0510 - accuracy: 0.9771 - val_loss: 1.0538 - val_accuracy: 0.8162\n",
            "Epoch 106/300\n",
            "11/11 [==============================] - 11s 978ms/step - loss: 0.0257 - accuracy: 0.9924 - val_loss: 1.9319 - val_accuracy: 0.7500\n",
            "Epoch 107/300\n",
            "11/11 [==============================] - 11s 1s/step - loss: 0.0563 - accuracy: 0.9885 - val_loss: 0.3089 - val_accuracy: 0.8750\n",
            "Epoch 108/300\n",
            "11/11 [==============================] - 11s 978ms/step - loss: 0.0409 - accuracy: 0.9866 - val_loss: 1.5569 - val_accuracy: 0.8603\n",
            "Epoch 109/300\n",
            "11/11 [==============================] - 11s 974ms/step - loss: 0.0352 - accuracy: 0.9866 - val_loss: 3.1321 - val_accuracy: 0.7574\n",
            "Epoch 110/300\n",
            "11/11 [==============================] - 11s 984ms/step - loss: 0.0385 - accuracy: 0.9885 - val_loss: 1.9164 - val_accuracy: 0.8162\n",
            "Epoch 111/300\n",
            "11/11 [==============================] - 11s 971ms/step - loss: 0.0522 - accuracy: 0.9751 - val_loss: 1.3004 - val_accuracy: 0.8382\n",
            "Epoch 112/300\n",
            "11/11 [==============================] - 11s 995ms/step - loss: 0.0949 - accuracy: 0.9713 - val_loss: 5.5127 - val_accuracy: 0.7721\n",
            "Epoch 113/300\n",
            "11/11 [==============================] - 11s 990ms/step - loss: 0.0630 - accuracy: 0.9751 - val_loss: 5.5311 - val_accuracy: 0.6838\n",
            "Epoch 114/300\n",
            "11/11 [==============================] - 11s 988ms/step - loss: 0.0550 - accuracy: 0.9809 - val_loss: 2.7834 - val_accuracy: 0.6471\n",
            "Epoch 115/300\n",
            "11/11 [==============================] - 11s 975ms/step - loss: 0.0581 - accuracy: 0.9866 - val_loss: 2.0426 - val_accuracy: 0.8162\n",
            "Epoch 116/300\n",
            "11/11 [==============================] - 11s 977ms/step - loss: 0.0323 - accuracy: 0.9943 - val_loss: 1.1296 - val_accuracy: 0.8235\n",
            "Epoch 117/300\n",
            "11/11 [==============================] - 11s 983ms/step - loss: 0.0364 - accuracy: 0.9847 - val_loss: 1.4169 - val_accuracy: 0.7868\n",
            "Epoch 118/300\n",
            "11/11 [==============================] - 11s 966ms/step - loss: 0.0812 - accuracy: 0.9847 - val_loss: 2.0420 - val_accuracy: 0.7500\n",
            "Epoch 119/300\n",
            "11/11 [==============================] - 11s 988ms/step - loss: 0.0559 - accuracy: 0.9847 - val_loss: 0.2387 - val_accuracy: 0.8088\n",
            "Epoch 120/300\n",
            "11/11 [==============================] - 11s 971ms/step - loss: 0.0452 - accuracy: 0.9809 - val_loss: 1.1224 - val_accuracy: 0.8824\n",
            "Epoch 121/300\n",
            "11/11 [==============================] - 10s 954ms/step - loss: 0.0344 - accuracy: 0.9866 - val_loss: 0.7172 - val_accuracy: 0.8088\n",
            "Epoch 122/300\n",
            "11/11 [==============================] - 11s 958ms/step - loss: 0.0662 - accuracy: 0.9713 - val_loss: 1.8633 - val_accuracy: 0.7794\n",
            "Epoch 123/300\n",
            "11/11 [==============================] - 11s 962ms/step - loss: 0.0471 - accuracy: 0.9847 - val_loss: 1.6627 - val_accuracy: 0.8162\n",
            "Epoch 124/300\n",
            "11/11 [==============================] - 10s 948ms/step - loss: 0.0389 - accuracy: 0.9904 - val_loss: 0.8858 - val_accuracy: 0.8382\n",
            "Epoch 125/300\n",
            "11/11 [==============================] - 11s 973ms/step - loss: 0.0346 - accuracy: 0.9885 - val_loss: 0.2910 - val_accuracy: 0.8676\n",
            "Epoch 126/300\n",
            "11/11 [==============================] - 10s 946ms/step - loss: 0.0441 - accuracy: 0.9866 - val_loss: 0.5500 - val_accuracy: 0.8824\n",
            "Epoch 127/300\n",
            "11/11 [==============================] - 11s 969ms/step - loss: 0.0445 - accuracy: 0.9809 - val_loss: 0.6975 - val_accuracy: 0.8162\n",
            "Epoch 128/300\n",
            "11/11 [==============================] - 11s 967ms/step - loss: 0.0464 - accuracy: 0.9847 - val_loss: 0.9357 - val_accuracy: 0.8750\n",
            "Epoch 129/300\n",
            "11/11 [==============================] - 11s 961ms/step - loss: 0.0420 - accuracy: 0.9847 - val_loss: 0.6255 - val_accuracy: 0.8529\n",
            "Epoch 130/300\n",
            "11/11 [==============================] - 10s 948ms/step - loss: 0.0499 - accuracy: 0.9866 - val_loss: 0.2952 - val_accuracy: 0.8235\n",
            "Epoch 131/300\n",
            "11/11 [==============================] - 10s 951ms/step - loss: 0.0397 - accuracy: 0.9828 - val_loss: 1.5087 - val_accuracy: 0.8162\n",
            "Epoch 132/300\n",
            "11/11 [==============================] - 11s 963ms/step - loss: 0.0163 - accuracy: 0.9962 - val_loss: 0.5044 - val_accuracy: 0.8309\n",
            "Epoch 133/300\n",
            "11/11 [==============================] - 10s 946ms/step - loss: 0.0200 - accuracy: 0.9924 - val_loss: 1.7955 - val_accuracy: 0.7868\n",
            "Epoch 134/300\n",
            "11/11 [==============================] - 11s 962ms/step - loss: 0.0484 - accuracy: 0.9809 - val_loss: 1.3012 - val_accuracy: 0.8456\n",
            "Epoch 135/300\n",
            "11/11 [==============================] - 11s 969ms/step - loss: 0.0209 - accuracy: 0.9943 - val_loss: 0.5901 - val_accuracy: 0.8824\n",
            "Epoch 136/300\n",
            "11/11 [==============================] - 11s 959ms/step - loss: 0.0365 - accuracy: 0.9885 - val_loss: 0.7388 - val_accuracy: 0.8456\n"
          ],
          "name": "stdout"
        }
      ]
    },
    {
      "cell_type": "code",
      "metadata": {
        "id": "JTII0E8TjB7X",
        "colab_type": "code",
        "colab": {}
      },
      "source": [
        "import matplotlib.pyplot as plt\n",
        "from matplotlib.pyplot import imshow"
      ],
      "execution_count": 0,
      "outputs": []
    },
    {
      "cell_type": "markdown",
      "metadata": {
        "id": "0N_vgjtRvolr",
        "colab_type": "text"
      },
      "source": [
        "This code block below was adapted from an implementation Ali Hatamizadeh showed us in discussion for CS 168.  "
      ]
    },
    {
      "cell_type": "code",
      "metadata": {
        "id": "ff1lKLvSVA1A",
        "colab_type": "code",
        "colab": {}
      },
      "source": [
        "def plot_learningCurve(history):\n",
        "  # Plot training & validation accuracy values\n",
        "  plt.plot(history.history['accuracy'])\n",
        "  plt.plot(history.history['val_accuracy'])\n",
        "  plt.title(MODEL_NAMES[0]+'-Model Accuracy')\n",
        "  plt.ylabel('Accuracy')\n",
        "  plt.xlabel('Epoch')\n",
        "  plt.legend(['Train', 'Val'], loc='upper left')\n",
        "  plt.savefig(\"/content/gdrive/My Drive/168-project-folder/CS168/graphs/\"+MODEL_NAMES[0]+\"-model-accuracy.png\")\n",
        "  plt.show()\n",
        "\n",
        "\n",
        "  # Plot training & validation loss values\n",
        "  plt.plot(history.history['loss'])\n",
        "  plt.plot(history.history['val_loss'])\n",
        "  plt.title(MODEL_NAMES[0]+'-Model Loss')\n",
        "  plt.ylabel('Loss')\n",
        "  plt.xlabel('Epoch')\n",
        "  plt.legend(['Train', 'Val'], loc='upper left')\n",
        "  plt.savefig(\"/content/gdrive/My Drive/168-project-folder/CS168/graphs/\"+MODEL_NAMES[0]+\"-model-loss.png\")\n",
        "  plt.show()"
      ],
      "execution_count": 0,
      "outputs": []
    },
    {
      "cell_type": "code",
      "metadata": {
        "id": "BkVOxtKaVEkB",
        "colab_type": "code",
        "outputId": "088f2d99-0c54-494d-c8e5-d7ccedf5c1fc",
        "colab": {
          "base_uri": "https://localhost:8080/",
          "height": 573
        }
      },
      "source": [
        "plot_learningCurve(history)"
      ],
      "execution_count": 0,
      "outputs": [
        {
          "output_type": "display_data",
          "data": {
            "image/png": "[encoded data removed]",
            "text/plain": [
              "<Figure size 432x288 with 1 Axes>"
            ]
          },
          "metadata": {
            "tags": [],
            "needs_background": "light"
          }
        },
        {
          "output_type": "display_data",
          "data": {
            "image/png": "[encoded data removed]",
            "text/plain": [
              "<Figure size 432x288 with 1 Axes>"
            ]
          },
          "metadata": {
            "tags": [],
            "needs_background": "light"
          }
        }
      ]
    },
    {
      "cell_type": "code",
      "metadata": {
        "id": "GLNk71BnFQYY",
        "colab_type": "code",
        "outputId": "4e76db9d-7938-4094-c667-aa42b44d6006",
        "colab": {
          "base_uri": "https://localhost:8080/",
          "height": 207
        }
      },
      "source": [
        "scores = model.evaluate(validation_generator, verbose=1)\n",
        "print('Test loss:', scores[0])\n",
        "print('Test accuracy:', scores[1])"
      ],
      "execution_count": 0,
      "outputs": [
        {
          "output_type": "error",
          "ename": "NameError",
          "evalue": "ignored",
          "traceback": [
            "\u001b[0;31m---------------------------------------------------------------------------\u001b[0m",
            "\u001b[0;31mNameError\u001b[0m                                 Traceback (most recent call last)",
            "\u001b[0;32m<ipython-input-1-28cb3e64749f>\u001b[0m in \u001b[0;36m<module>\u001b[0;34m()\u001b[0m\n\u001b[0;32m----> 1\u001b[0;31m \u001b[0mscores\u001b[0m \u001b[0;34m=\u001b[0m \u001b[0mmodel\u001b[0m\u001b[0;34m.\u001b[0m\u001b[0mevaluate\u001b[0m\u001b[0;34m(\u001b[0m\u001b[0mvalidation_generator\u001b[0m\u001b[0;34m,\u001b[0m \u001b[0mverbose\u001b[0m\u001b[0;34m=\u001b[0m\u001b[0;36m1\u001b[0m\u001b[0;34m)\u001b[0m\u001b[0;34m\u001b[0m\u001b[0;34m\u001b[0m\u001b[0m\n\u001b[0m\u001b[1;32m      2\u001b[0m \u001b[0mprint\u001b[0m\u001b[0;34m(\u001b[0m\u001b[0;34m'Test loss:'\u001b[0m\u001b[0;34m,\u001b[0m \u001b[0mscores\u001b[0m\u001b[0;34m[\u001b[0m\u001b[0;36m0\u001b[0m\u001b[0;34m]\u001b[0m\u001b[0;34m)\u001b[0m\u001b[0;34m\u001b[0m\u001b[0;34m\u001b[0m\u001b[0m\n\u001b[1;32m      3\u001b[0m \u001b[0mprint\u001b[0m\u001b[0;34m(\u001b[0m\u001b[0;34m'Test accuracy:'\u001b[0m\u001b[0;34m,\u001b[0m \u001b[0mscores\u001b[0m\u001b[0;34m[\u001b[0m\u001b[0;36m1\u001b[0m\u001b[0;34m]\u001b[0m\u001b[0;34m)\u001b[0m\u001b[0;34m\u001b[0m\u001b[0;34m\u001b[0m\u001b[0m\n",
            "\u001b[0;31mNameError\u001b[0m: name 'model' is not defined"
          ]
        }
      ]
    },
    {
      "cell_type": "code",
      "metadata": {
        "id": "R531s8QzTHnn",
        "colab_type": "code",
        "colab": {}
      },
      "source": [
        "save_dir='/content/gdrive/My Drive/168-project-folder/CS168/models'\n",
        "\n",
        "if not os.path.isdir(save_dir):\n",
        "    os.makedirs(save_dir)\n",
        "\n",
        "model_name='binary-'+MODEL_NAMES[0]\n",
        "model_path = os.path.join(save_dir, model_name)\n",
        "model.save(model_path)"
      ],
      "execution_count": 0,
      "outputs": []
    },
    {
      "cell_type": "code",
      "metadata": {
        "id": "_XacaN5-O5SP",
        "colab_type": "code",
        "colab": {}
      },
      "source": [
        "drive.flush_and_unmount()"
      ],
      "execution_count": 0,
      "outputs": []
    },
    {
      "cell_type": "code",
      "metadata": {
        "id": "9Gwg6SirFjGi",
        "colab_type": "code",
        "colab": {}
      },
      "source": [
        ""
      ],
      "execution_count": 0,
      "outputs": []
    }
  ]
}